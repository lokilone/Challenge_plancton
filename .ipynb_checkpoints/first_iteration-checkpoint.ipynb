{
 "cells": [
  {
   "cell_type": "code",
   "execution_count": 1,
   "metadata": {},
   "outputs": [
    {
     "name": "stdout",
     "output_type": "stream",
     "text": [
      "True\n"
     ]
    }
   ],
   "source": [
    "import os\n",
    "import numpy as np \n",
    "print(os.path.exists(\"/mounts/Datasets1/ChallengeDeep/train/\"))\n",
    "\n",
    "train_path = \"/mounts/Datasets1/ChallengeDeep/train/\"\n",
    "\n",
    "categories = np.sort(os.listdir(train_path))"
   ]
  },
  {
   "cell_type": "code",
   "execution_count": 2,
   "metadata": {},
   "outputs": [],
   "source": [
    "category_paths = []\n",
    "\n",
    "for category in categories :\n",
    "    category_paths.append(os.path.join(train_path, category))"
   ]
  },
  {
   "cell_type": "code",
   "execution_count": 5,
   "metadata": {},
   "outputs": [],
   "source": [
    "number_of_images = []\n",
    "image_paths = {}\n",
    "image_names = {}\n",
    "\n",
    "for category_path, category in zip(category_paths, categories):\n",
    "    number_of_images.append(len(os.listdir(category_path)))\n",
    "    image_names[category] = np.sort(os.listdir(category_path))\n",
    "    image_paths[category] = []\n",
    "    for image in image_names[category]:\n",
    "        image_paths[category].append(os.path.join(category_path, image))"
   ]
  },
  {
   "cell_type": "code",
   "execution_count": 6,
   "metadata": {},
   "outputs": [
    {
     "name": "stdout",
     "output_type": "stream",
     "text": [
      "Nombre moyen d'image par catégorie : 9946.441860465116\n",
      "Nombre médian d'image par catégorie : 2036.5\n",
      "Nombre max d'image par catégorie : 243570\n",
      "Nombre min d'image par catégorie : 37\n",
      "Categories with more than 100000 images : 001_detritus 036_Calanoida\n",
      "Categories with less than 100 images : 023_Scyphozoa 024_Ctenophora 026_ephyra 079_gonophore__Abylopsis_tetragona\n"
     ]
    }
   ],
   "source": [
    "print(\"Nombre moyen d'image par catégorie :\", np.mean(number_of_images))\n",
    "print(\"Nombre médian d'image par catégorie :\", np.median(number_of_images))\n",
    "print(\"Nombre max d'image par catégorie :\", np.max(number_of_images))\n",
    "print(\"Nombre min d'image par catégorie :\", np.min(number_of_images))\n",
    "\n",
    "print(\"Categories with more than 100000 images :\", *np.array(categories)[np.array(number_of_images) > 100000])\n",
    "print(\"Categories with less than 100 images :\", *np.array(categories)[np.array(number_of_images) < 100])"
   ]
  },
  {
   "cell_type": "markdown",
   "metadata": {},
   "source": [
    "Les catégories ont généralement quelques milliers d'image mais cela varie énormément. Il faudra notamment porter beaucoup d'attention aux catégories avec moins de 100 images car ce sont celles que l'algo aura le plus de mal à prédire certainement. \n",
    "On a aussi 2 catégories avec plus de 100 000 images."
   ]
  },
  {
   "cell_type": "code",
   "execution_count": 7,
   "metadata": {},
   "outputs": [],
   "source": [
    "from PIL import Image\n",
    "\n",
    "def afficher_image(categorie, numero_image, image_paths=image_paths):\n",
    "    im = Image.open(image_paths[categories[categorie]][numero_image])\n",
    "    im.show()\n",
    "    print(image_paths[categories[categorie]][numero_image])\n"
   ]
  },
  {
   "cell_type": "code",
   "execution_count": 8,
   "metadata": {},
   "outputs": [
    {
     "name": "stdout",
     "output_type": "stream",
     "text": [
      "/mounts/Datasets1/ChallengeDeep/train/010_Hyperiidea/116.jpg\n"
     ]
    }
   ],
   "source": [
    "afficher_image(10, 20)"
   ]
  },
  {
   "cell_type": "code",
   "execution_count": 14,
   "metadata": {},
   "outputs": [
    {
     "data": {
      "text/plain": [
       "(231, 225)"
      ]
     },
     "execution_count": 14,
     "metadata": {},
     "output_type": "execute_result"
    }
   ],
   "source": [
    "image = Image.open(image_paths[categories[0]][0])\n",
    "image.size"
   ]
  }
 ],
 "metadata": {
  "interpreter": {
   "hash": "31f2aee4e71d21fbe5cf8b01ff0e069b9275f58929596ceb00d14d90e3e16cd6"
  },
  "kernelspec": {
   "display_name": "Python 3 (ipykernel)",
   "language": "python",
   "name": "python3"
  },
  "language_info": {
   "codemirror_mode": {
    "name": "ipython",
    "version": 3
   },
   "file_extension": ".py",
   "mimetype": "text/x-python",
   "name": "python",
   "nbconvert_exporter": "python",
   "pygments_lexer": "ipython3",
   "version": "3.8.10"
  }
 },
 "nbformat": 4,
 "nbformat_minor": 2
}
