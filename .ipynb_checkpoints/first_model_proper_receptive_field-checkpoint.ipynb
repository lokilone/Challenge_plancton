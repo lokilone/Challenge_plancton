{
 "cells": [
  {
   "cell_type": "markdown",
   "metadata": {},
   "source": [
    "Imports"
   ]
  },
  {
   "cell_type": "code",
   "execution_count": 10,
   "metadata": {},
   "outputs": [],
   "source": [
    "import torch\n",
    "import torchvision\n",
    "import torchvision.datasets as datasets                                                     \n",
    "import torchvision.transforms \n",
    "import matplotlib.pyplot as plt\n",
    "import matplotlib.cm as cm\n",
    "import torch.nn as nn\n",
    "import torch.nn.functional\n",
    "\n",
    "import numpy as np\n",
    "\n",
    "import os.path \n",
    "import sys"
   ]
  },
  {
   "cell_type": "markdown",
   "metadata": {},
   "source": [
    "Load data"
   ]
  },
  {
   "cell_type": "code",
   "execution_count": 11,
   "metadata": {},
   "outputs": [],
   "source": [
    "params = {\"padding\" : (300,300)}"
   ]
  },
  {
   "cell_type": "code",
   "execution_count": 12,
   "metadata": {},
   "outputs": [],
   "source": [
    "##### Defining transforms #####\n",
    "pad = torchvision.transforms.Pad(padding = params[\"padding\"], fill = 0) # pad smaller images to desired size\n",
    "centercrop = torchvision.transforms.CenterCrop(300) # Crop images to be of same 300x300\n",
    "greyscale = orchvision.transforms.Grayscale(num_output_channels=1) # Images are B/W but in 3 channels, we only need one\n",
    "\n",
    "#Compose transforms\n",
    "composed_transforms = torchvision.transforms.Compose([centercrop, greyscale,\n",
    "                torchvision.transforms.ToTensor()])\n",
    "\n",
    "#Create transformer class\n",
    "class DatasetTransformer(torch.utils.data.Dataset):\n",
    "    \n",
    "    def __init__(self, base_dataset, transforms):\n",
    "        self.base_dataset = base_dataset\n",
    "        self.transform = transforms\n",
    "\n",
    "    def __getitem__(self, index):\n",
    "        img, target = self.base_dataset[index]\n",
    "        return self.transform(img), target\n",
    "\n",
    "    def __len__(self):\n",
    "        return len(self.base_dataset)"
   ]
  },
  {
   "cell_type": "code",
   "execution_count": 13,
   "metadata": {},
   "outputs": [
    {
     "name": "stdout",
     "output_type": "stream",
     "text": [
      "True\n",
      "ok\n",
      "ok\n"
     ]
    }
   ],
   "source": [
    "##### Loading Data #####\n",
    "print(os.path.exists(\"/mounts/Datasets1/ChallengeDeep/train/\"))\n",
    "train_path = \"/mounts/Datasets1/ChallengeDeep/train/\"\n",
    "valid_ratio = 0.2\n",
    "\n",
    "# Load learning data\n",
    "print('ok')\n",
    "train_path = \"/mounts/Datasets1/ChallengeDeep/train/\"\n",
    "dataset = datasets.ImageFolder(train_path,composed_transforms)\n",
    "print('ok')"
   ]
  },
  {
   "cell_type": "code",
   "execution_count": 14,
   "metadata": {},
   "outputs": [],
   "source": [
    "# Train test split \n",
    "nb_train = int((1.0 - valid_ratio) * len(dataset))\n",
    "nb_valid =  len(dataset)-nb_train\n",
    "train_dataset, valid_dataset = torch.utils.data.dataset.random_split(dataset, [nb_train, nb_valid])"
   ]
  },
  {
   "cell_type": "code",
   "execution_count": 15,
   "metadata": {
    "scrolled": true
   },
   "outputs": [
    {
     "name": "stdout",
     "output_type": "stream",
     "text": [
      "The train set contains 684315 images, in 10693 batches\n",
      "The validation set contains 171079 images, in 2674 batches\n"
     ]
    }
   ],
   "source": [
    "##### Generating Loaders #####\n",
    "num_workers = 4\n",
    "batch_size = 64\n",
    "\n",
    "# training loader\n",
    "train_loader = torch.utils.data.DataLoader(dataset = train_dataset,\n",
    "                                            batch_size = batch_size,\n",
    "                                            num_workers = num_workers,\n",
    "                                            shuffle = True)\n",
    "\n",
    "# validation loader\n",
    "valid_loader = torch.utils.data.DataLoader(dataset = valid_dataset,\n",
    "                                            batch_size = batch_size,\n",
    "                                            num_workers= num_workers,\n",
    "                                            shuffle = True)\n",
    "\n",
    "# Data Inspect\n",
    "print(\"The train set contains {} images, in {} batches\".format(len(train_loader.dataset), len(train_loader)))\n",
    "print(\"The validation set contains {} images, in {} batches\".format(len(valid_loader.dataset), len(valid_loader)))"
   ]
  },
  {
   "cell_type": "code",
   "execution_count": 19,
   "metadata": {},
   "outputs": [
    {
     "data": {
      "image/png": "[encoded data removed]",
      "text/plain": [
       "<Figure size 1440x360 with 10 Axes>"
      ]
     },
     "metadata": {},
     "output_type": "display_data"
    }
   ],
   "source": [
    "##### Display Some data #####\n",
    "n_samples = 10\n",
    "\n",
    "class_names = dataset.classes\n",
    "imgs, labels = next(iter(train_loader))\n",
    "\n",
    "fig=plt.figure(figsize=(20,5),facecolor='w')\n",
    "for i in range(n_samples) : \n",
    "    ax = plt.subplot(1,n_samples, i+1)\n",
    "    plt.imshow(imgs[i, 0, :, :], vmin=0, vmax=1.0, cmap=cm.gray)\n",
    "    ax.set_title(\"{}\".format(class_names[labels[0]]), fontsize=15)\n",
    "    ax.get_xaxis().set_visible(False)\n",
    "    ax.get_yaxis().set_visible(False)\n",
    "\n",
    "plt.savefig('plancton.png', bbox_inches='tight')\n",
    "plt.show()"
   ]
  },
  {
   "cell_type": "code",
   "execution_count": null,
   "metadata": {},
   "outputs": [],
   "source": [
    "##### Model construction items #####\n",
    "\n",
    "# A convolutional base block\n",
    "def conv_relu_maxpool(cin, cout, csize, cstride, cpad, msize, mstride, mpad):\n",
    "    return [nn.Conv2d(cin, cout, csize, cstride, cpad),\n",
    "        nn.ReLu(inplace=True),\n",
    "        nn.MaxPool2d(msize, mstride, mpad)]\n",
    "\n",
    "# A linear base block\n",
    "def linear_relu(dim_in, dim_out):\n",
    "    return [nn.Linear(dim_in,dim_out),\n",
    "                nn.Relu(inplace=True)]\n",
    "\n",
    "# Compute convolution output\n",
    "def out_size(conv_model):\n",
    "    dummy_output = conv_model(torch.zeros((1, 1, 300, 300)))\n",
    "    return np.prod(dummy_output.shape[1:] )\n",
    "\n",
    "# Loss function \n",
    "class F1_Loss(nn.Module):\n",
    "    '''Calculate F1 score. Can work with gpu tensors\n",
    "    \n",
    "    The original implmentation is written by Michal Haltuf on Kaggle.\n",
    "    \n",
    "    Returns\n",
    "    -------\n",
    "    torch.Tensor\n",
    "        `ndim` == 1. epsilon <= val <= 1\n",
    "    '''\n",
    "    def __init__(self, epsilon=1e-7):\n",
    "        super().__init__()\n",
    "        self.epsilon = epsilon\n",
    "        \n",
    "    def forward(self, y_pred, y_true,):\n",
    "        assert y_pred.ndim == 2  \n",
    "        assert y_true.ndim == 1\n",
    "        y_true = nn.functional.one_hot(y_true, -1).to(torch.float32) # qui va à la place du -1\n",
    "        y_pred = nn.functional.softmax(y_pred, dim=1)\n",
    "        \n",
    "        tp = (y_true * y_pred).sum(dim=0).to(torch.float32)\n",
    "        tn = ((1 - y_true) * (1 - y_pred)).sum(dim=0).to(torch.float32)\n",
    "        fp = ((1 - y_true) * y_pred).sum(dim=0).to(torch.float32)\n",
    "        fn = (y_true * (1 - y_pred)).sum(dim=0).to(torch.float32)\n",
    "\n",
    "        precision = tp / (tp + fp + self.epsilon)\n",
    "        recall = tp / (tp + fn + self.epsilon)\n",
    "\n",
    "        f1 = 2* (precision*recall) / (precision + recall + self.epsilon)\n",
    "        f1 = f1.clamp(min=self.epsilon, max=1-self.epsilon)  # clamp ?\n",
    "        return 1 - f1.mean()\n",
    "    \n",
    "f_loss = F1_loss\n",
    "\n",
    "dummy_loss = f_loss(torch.Tensor([[-100, 10, 8]]), torch.LongTensor([1]))) # f1 test\n",
    "print(\"on calcule une loss f1 de : {}\".format(dummy_loss))\n",
    "\n",
    "# Optimizer \n",
    "optimizer = torch.optim.Adam(model.parameters())"
   ]
  },
  {
   "cell_type": "code",
   "execution_count": null,
   "metadata": {},
   "outputs": [],
   "source": [
    "##### Building a Model #####\n",
    "\n",
    "class convClassifier(nn.Module):\n",
    "    \n",
    "    def __init__(self, num_classes):\n",
    "        super(convClassifier, self).__init__()\n",
    "        self.conv_model = nn.sequential(*conv_relu_maxpool(cin=1, cout=32,\n",
    "                       csize=3, cstride=1, cpad=1,\n",
    "                       msize=2, mstride=2, mpad=0),\n",
    "                    *conv_relu_maxpool(cin=1, cout=64,\n",
    "                       csize=3, cstride=1, cpad=1,\n",
    "                       msize=2, mstride=2, mpad=0))\n",
    "                       \n",
    "        output_size = out_size(self.conv_model)\n",
    "        self.fc_model = nn.sequential(*linear_relu(output_size,256),\n",
    "                                        nn.Linear(256, num_classes))\n",
    "    \n",
    "    def forward(self, x):\n",
    "        x = x.view(x.size[0], -1)\n",
    "        x = self.conv_model(x)\n",
    "        y = self.fc_model(x)\n",
    "        return y\n",
    "\n",
    "model = convClassifier(num_classes=len(dataset.classes))\n",
    "\n",
    "use_gpu = torch.cuda.is_available()\n",
    "if use_gpu :\n",
    "    device = torch.device('cuda')\n",
    "else : \n",
    "    device = torch.device('cpu')\n",
    "\n",
    "model.to(device)"
   ]
  },
  {
   "cell_type": "code",
   "execution_count": null,
   "metadata": {},
   "outputs": [],
   "source": [
    "##### training and testing #####\n",
    "\n",
    "# One train step\n",
    "def train(model, loader, f_loss, optimizer, device):\n",
    "\n",
    "    # enter train mode\n",
    "    model.train()\n",
    "    \n",
    "    N = 0\n",
    "    tot_loss, correct = 0.0, 0.0\n",
    "\n",
    "    for i, (inputs, targets) in enumerate(loader):\n",
    "        inputs, targets = inputs.to(device), targets.to(device)\n",
    "\n",
    "        # Compute the forward pass through the network up to the loss\n",
    "        outputs = model(inputs)\n",
    "        loss = f_loss(outputs, targets)\n",
    "\n",
    "        # Backward and optimize\n",
    "        optimizer.zero_grad()\n",
    "        loss.backward()\n",
    "        optimizer.step()\n",
    "        \n",
    "        # Accumulate the exact number of processed samples\n",
    "        N += inputs.shape[0]\n",
    "\n",
    "        # Accumulate the loss considering\n",
    "        tot_loss += inputs.shape[0] * f_loss(outputs, targets).item()\n",
    "\n",
    "        # For the accuracy, we compute the labels for each input image\n",
    "        predicted_targets = outputs.argmax(dim=1)\n",
    "        correct += (predicted_targets == targets).sum().item()\n",
    "        \n",
    "        print(\" Training : Loss : {:.4f}, Acc : {:.4f}\".format(tot_loss/N, correct/N))\n",
    "\n",
    "# Test\n",
    "def test(model, loader, f_loss, device):\n",
    "    \n",
    "    # We disable gradient computation \n",
    "    with torch.no_grad():\n",
    "        \n",
    "        # We enter evaluation mode\n",
    "        model.eval()\n",
    "        \n",
    "        N = 0\n",
    "        tot_loss, correct = 0.0, 0.0\n",
    "        \n",
    "        for i, (inputs, targets) in enumerate(loader):\n",
    "            inputs, targets = inputs.to(device), targets.to(device)\n",
    "\n",
    "            # Compute the forward pass, i.e. the scores for each input image\n",
    "            outputs = model(inputs)\n",
    "\n",
    "            # Accumulate the exact number of processed samples\n",
    "            N += inputs.shape[0]\n",
    "\n",
    "            # Accumulate the loss considering\n",
    "            tot_loss += inputs.shape[0] * f_loss(outputs, targets).item()\n",
    "\n",
    "            # For the accuracy, we compute the labels for each input image\n",
    "            predicted_targets = outputs.argmax(dim=1)\n",
    "            correct += (predicted_targets == targets).sum().item()\n",
    "            \n",
    "        return tot_loss/N, correct/N"
   ]
  },
  {
   "cell_type": "code",
   "execution_count": null,
   "metadata": {},
   "outputs": [],
   "source": [
    "##### Save the best model #####\n",
    "\n",
    "def generate_unique_logpath(logdir, raw_run_name):\n",
    "    i = 0\n",
    "    while(True):\n",
    "        run_name = raw_run_name + \"_\" + str(i)\n",
    "        log_path = os.path.join(logdir, run_name)\n",
    "        if not os.path.isdir(log_path):\n",
    "            return log_path\n",
    "        i = i + 1\n",
    "\n",
    "# 1- create the logs directory if it does not exist\n",
    "top_logdir = \"./logs\"\n",
    "if not os.path.exists(top_logdir):\n",
    "    os.mkdir(top_logdir)\n",
    "    \n",
    "logdir = generate_unique_logpath(top_logdir, \"run\")\n",
    "print(\"Logging to {}\".format(logdir))\n",
    "\n",
    "class ModelCheckpoint:\n",
    "\n",
    "    def __init__(self, filepath, model):\n",
    "        self.min_loss = None\n",
    "        self.filepath = filepath\n",
    "        self.model = model\n",
    "\n",
    "    def update(self, loss):\n",
    "        if (self.min_loss is None) or (loss < self.min_loss):\n",
    "            print(\"Saving a better model\")\n",
    "            torch.save(self.model.state_dict(), self.filepath)\n",
    "            self.min_loss = loss\n",
    "\n",
    "# Define the callback object\n",
    "model_checkpoint = ModelCheckpoint(logdir + \"/best_model.pt\", model)"
   ]
  },
  {
   "cell_type": "code",
   "execution_count": null,
   "metadata": {},
   "outputs": [],
   "source": [
    "##### learning loop #####\n",
    "epochs = 5\n",
    "\n",
    "for t in range(epochs):\n",
    "    print(\"Epoch {}\".format(t))\n",
    "    train(model, train_loader, f_loss, optimizer, device)\n",
    "\n",
    "    val_loss, val_acc = test(model, valid_loader, f_loss, device)\n",
    "    print(\" Validation : Loss : {:.4f}, Acc : {:.4f}\".format(val_loss, val_acc))\n",
    "    model_checkpoint.update(val_loss)"
   ]
  },
  {
   "cell_type": "code",
   "execution_count": null,
   "metadata": {},
   "outputs": [],
   "source": [
    "##### Save a summary of the run #####\n",
    "\n",
    "summary_file = open(logdir + \"/summary.txt\", 'w')\n",
    "summary_text = \"\"\"\n",
    "\n",
    "Executed command\n",
    "================\n",
    "{}\n",
    "\n",
    "Dataset\n",
    "=======\n",
    "FashionMNIST\n",
    "\n",
    "Model summary\n",
    "=============\n",
    "{}\n",
    "\n",
    "{} trainable parameters\n",
    "\n",
    "Optimizer\n",
    "========\n",
    "{}\n",
    "\n",
    "\"\"\".format(\" \".join(sys.argv), model, sum(p.numel() for p in model.parameters() if p.requires_grad), optimizer)\n",
    "summary_file.write(summary_text)\n",
    "summary_file.close()\n"
   ]
  }
 ],
 "metadata": {
  "interpreter": {
   "hash": "31f2aee4e71d21fbe5cf8b01ff0e069b9275f58929596ceb00d14d90e3e16cd6"
  },
  "kernelspec": {
   "display_name": "Python 3 (ipykernel)",
   "language": "python",
   "name": "python3"
  },
  "language_info": {
   "codemirror_mode": {
    "name": "ipython",
    "version": 3
   },
   "file_extension": ".py",
   "mimetype": "text/x-python",
   "name": "python",
   "nbconvert_exporter": "python",
   "pygments_lexer": "ipython3",
   "version": "3.8.10"
  }
 },
 "nbformat": 4,
 "nbformat_minor": 2
}
