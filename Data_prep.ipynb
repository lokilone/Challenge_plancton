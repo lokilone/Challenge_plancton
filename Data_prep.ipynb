{
 "cells": [
  {
   "cell_type": "markdown",
   "metadata": {},
   "source": [
    "Imports"
   ]
  },
  {
   "cell_type": "code",
   "execution_count": null,
   "metadata": {},
   "outputs": [],
   "source": [
    "import torch\n",
    "import torchvision\n",
    "from torchvision.datasets as datasets                                                     \n",
    "import torchvision.transforms \n",
    "\n",
    "import os.path "
   ]
  },
  {
   "cell_type": "markdown",
   "metadata": {},
   "source": [
    "Load data"
   ]
  },
  {
   "cell_type": "code",
   "execution_count": null,
   "metadata": {},
   "outputs": [],
   "source": [
    "##### Defining transforms #####\n",
    "pad = torchvision.transforms.Pad(padding = params[\"padding\"], fill = 0) # pad smaller images to desired size\n",
    "\n",
    "#Compose transforms\n",
    "imgTransforms = [pad,\n",
    "                torchvision.transforms.ToTensor()]\n",
    "tensorTransforms = []\n",
    "transforms = torchvision.transforms.Compose(imgTransforms.append(tensorTransforms))\n",
    "\n",
    "#Create transformer class\n",
    "class ImageTransformer(torch.utils.data.Dataset):\n",
    "    \n",
    "    def __init__(self, base_dataset, transforms):\n",
    "        self.base_dataset = base_dataset\n",
    "        self.transform = transforms\n",
    "\n",
    "    def __getitem__(self, index):\n",
    "        img, target = self.base_dataset[index]\n",
    "        return self.transform(img), target\n",
    "\n",
    "    def __len__(self):\n",
    "        return len(self.base_dataset)"
   ]
  },
  {
   "cell_type": "code",
   "execution_count": null,
   "metadata": {},
   "outputs": [],
   "source": [
    "##### Loading Data #####\n",
    "print(os.path.exists(\"/mounts/Datasets1/ChallengeDeep/train/\"))\n",
    "train_path = \"/mounts/Datasets1/ChallengeDeep/train/\"\n",
    "valid_ratio = 0.2\n",
    "\n",
    "# Load learning data\n",
    "train_path = \"/mounts/Datasets1/ChallengeDeep/train/\"\n",
    "dataset = datasets.ImageFolder(train_path)\n",
    "\n",
    "# Train test split \n",
    "nb_train = int((1.0 - valid_ratio) * len(dataset))\n",
    "nb_valid =  int(valid_ratio * len(dataset))\n",
    "train_dataset, valid_dataset = torch.utils.data.dataset.random_split(dataset, [nb_train, nb_valid])\n",
    "\n",
    "#Transform data \n",
    "train_dataset = DatasetTransformer(train_dataset, transforms)\n",
    "valid_dataset = DatasetTransformer(valid_dataset, transforms)"
   ]
  },
  {
   "cell_type": "code",
   "execution_count": null,
   "metadata": {},
   "outputs": [],
   "source": [
    "##### Generating Loaders #####\n",
    "num_workers = \n",
    "batch_size = \n",
    "\n",
    "# training loader\n",
    "train_loader = torch.utils.data.DataLoader(dataset = train_dataset,\n",
    "                                            batch_size = batch_size,\n",
    "                                            shuffle = True)\n",
    "\n",
    "# validation loader\n",
    "train_loader = torch.utils.data.DataLoader(dataset = valid_dataset,\n",
    "                                            batch_size = batch_size,\n",
    "                                            shuffle = True)\n",
    "\n",
    "# Data Inspect\n",
    "print(\"The train set contains {} images, in {} batches\".format(len(train_loader.dataset), len(train_loader)))\n",
    "print(\"The validation set contains {} images, in {} batches\".format(len(valid_loader.dataset), len(valid_loader)))"
   ]
  },
  {
   "cell_type": "code",
   "execution_count": null,
   "metadata": {},
   "outputs": [],
   "source": [
    "##### Display Some data #####\n",
    "n_samples = \n",
    "\n",
    "class_names = params[\"categories\"]\n",
    "imgs, labels = next(iter(train_loader))\n",
    "\n",
    "fig=plt.figure(figsize=(20,5),facecolor='w')\n",
    "for i in range(n_samples) : \n",
    "    ax = plt.subplot(1,n_samples, i+1)\n",
    "    plt.imshow(imgs[i, 0, :, :], vmin=0, vmax=1.0, cmap=cm.gray)\n",
    "    ax.set_title(\"{}\".format(classes_names[labels[i]]), fontsize=15)\n",
    "    ax.get_xaxis().set_visible(False)\n",
    "    ax.get_yaxis().set_visible(False)\n",
    "\n",
    "plt.savefig('fashionMNIST_samples.png', bbox_inches='tight')\n",
    "plt.show()"
   ]
  }
 ],
 "metadata": {
  "interpreter": {
   "hash": "31f2aee4e71d21fbe5cf8b01ff0e069b9275f58929596ceb00d14d90e3e16cd6"
  },
  "kernelspec": {
   "display_name": "Python 3.8.10 64-bit",
   "language": "python",
   "name": "python3"
  },
  "language_info": {
   "name": "python",
   "version": "3.8.10"
  },
  "orig_nbformat": 4
 },
 "nbformat": 4,
 "nbformat_minor": 2
}
