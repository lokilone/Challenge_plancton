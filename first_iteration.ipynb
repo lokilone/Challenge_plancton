{
 "cells": [
  {
   "cell_type": "code",
   "execution_count": 1,
   "source": [
    "import os\n",
    "import numpy as np \n",
    "print(os.path.exists(\"/mounts/Datasets1/ChallengeDeep/train/\"))\n",
    "\n",
    "train_path = \"/mounts/Datasets1/ChallengeDeep/train/\"\n",
    "\n",
    "categories = np.sort(os.listdir(train_path))"
   ],
   "outputs": [
    {
     "output_type": "stream",
     "name": "stdout",
     "text": [
      "True\n"
     ]
    }
   ],
   "metadata": {}
  },
  {
   "cell_type": "code",
   "execution_count": 2,
   "source": [
    "category_paths = []\n",
    "\n",
    "for category in categories :\n",
    "    category_paths.append(os.path.join(train_path, category))"
   ],
   "outputs": [],
   "metadata": {}
  },
  {
   "cell_type": "code",
   "execution_count": 5,
   "source": [
    "number_of_images = []\n",
    "image_paths = {}\n",
    "image_names = {}\n",
    "\n",
    "for category_path, category in zip(category_paths, categories):\n",
    "    number_of_images.append(len(os.listdir(category_path)))\n",
    "    image_names[category] = np.sort(os.listdir(category_path))\n",
    "    image_paths[category] = []\n",
    "    for image in image_names[category]:\n",
    "        image_paths[category].append(os.path.join(category_path, image))"
   ],
   "outputs": [],
   "metadata": {}
  },
  {
   "cell_type": "code",
   "execution_count": 6,
   "source": [
    "print(\"Nombre moyen d'image par catégorie :\", np.mean(number_of_images))\n",
    "print(\"Nombre médian d'image par catégorie :\", np.median(number_of_images))\n",
    "print(\"Nombre max d'image par catégorie :\", np.max(number_of_images))\n",
    "print(\"Nombre min d'image par catégorie :\", np.min(number_of_images))\n",
    "\n",
    "print(\"Categories with more than 100000 images :\", *np.array(categories)[np.array(number_of_images) > 100000])\n",
    "print(\"Categories with less than 100 images :\", *np.array(categories)[np.array(number_of_images) < 100])"
   ],
   "outputs": [
    {
     "output_type": "stream",
     "name": "stdout",
     "text": [
      "Nombre moyen d'image par catégorie : 9946.441860465116\n",
      "Nombre médian d'image par catégorie : 2036.5\n",
      "Nombre max d'image par catégorie : 243570\n",
      "Nombre min d'image par catégorie : 37\n",
      "Categories with more than 100000 images : 001_detritus 036_Calanoida\n",
      "Categories with less than 100 images : 023_Scyphozoa 024_Ctenophora 026_ephyra 079_gonophore__Abylopsis_tetragona\n"
     ]
    }
   ],
   "metadata": {}
  },
  {
   "cell_type": "markdown",
   "source": [
    "Les catégories ont généralement quelques milliers d'image mais cela varie énormément. Il faudra notamment porter beaucoup d'attention aux catégories avec moins de 100 images car ce sont celles que l'algo aura le plus de mal à prédire certainement. \n",
    "On a aussi 2 catégories avec plus de 100 000 images."
    "Pour les catégories avec moins de 100 images, on pourra notamment essayer de faire de l'augmentation de données "
   ],
   "metadata": {}
  },
  {
   "cell_type": "code",
   "execution_count": 7,
   "source": [
    "from PIL import Image\n",
    "\n",
    "def afficher_image(categorie, numero_image, image_paths=image_paths):\n",
    "    im = Image.open(image_paths[categories[categorie]][numero_image])\n",
    "    im.show()\n",
    "    print(image_paths[categories[categorie]][numero_image])\n"
   ],
   "outputs": [],
   "metadata": {}
  },
  {
   "cell_type": "code",
   "execution_count": 8,
   "source": [
    "afficher_image(10, 20)"
   ],
   "outputs": [
    {
     "output_type": "stream",
     "name": "stdout",
     "text": [
      "/mounts/Datasets1/ChallengeDeep/train/010_Hyperiidea/116.jpg\n"
     ]
    }
   ],
   "metadata": {}
  },
  {
   "cell_type": "code",
   "execution_count": 14,
   "source": [
    "image = Image.open(image_paths[categories[0]][0])\n",
    "image.size"
   ],
   "outputs": [
    {
     "output_type": "execute_result",
     "data": {
      "text/plain": [
       "(231, 225)"
      ]
     },
     "metadata": {},
     "execution_count": 14
    }
   ],
   "metadata": {}
  }
 ],
 "metadata": {
  "orig_nbformat": 4,
  "kernelspec": {
   "name": "python3",
   "display_name": "Python 3.6.9 64-bit"
  },
  "language_info": {
   "name": "python",
   "version": "3.6.9",
   "mimetype": "text/x-python",
   "codemirror_mode": {
    "name": "ipython",
    "version": 3
   },
   "pygments_lexer": "ipython3",
   "nbconvert_exporter": "python",
   "file_extension": ".py"
  },
  "interpreter": {
   "hash": "31f2aee4e71d21fbe5cf8b01ff0e069b9275f58929596ceb00d14d90e3e16cd6"
  }
 },
 "nbformat": 4,
 "nbformat_minor": 2
}
