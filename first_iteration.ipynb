{
 "cells": [
  {
   "cell_type": "code",
   "execution_count": 3,
   "source": [
    "import os\n",
    "print(os.path.exists(\"/mounts/Datasets1/ChallengeDeep/train/\"))\n",
    "\n",
    "train_path = \"/mounts/Datasets1/ChallengeDeep/train/\"\n",
    "\n",
    "list_file = os.listdir(train_path)"
   ],
   "outputs": [
    {
     "output_type": "stream",
     "name": "stdout",
     "text": [
      "True\n"
     ]
    }
   ],
   "metadata": {}
  },
  {
   "cell_type": "code",
   "execution_count": 8,
   "source": [
    "import numpy as np \n",
    "list_file = np.sort(list_file)"
   ],
   "outputs": [],
   "metadata": {}
  },
  {
   "cell_type": "code",
   "execution_count": 11,
   "source": [
    "category_paths = []\n",
    "\n",
    "for file in list_file :\n",
    "    category_paths.append(os.path.join(train_path, file))\n",
    "\n",
    "category_paths"
   ],
   "outputs": [
    {
     "output_type": "execute_result",
     "data": {
      "text/plain": [
       "['/mounts/Datasets1/ChallengeDeep/train/000_Candaciidae',\n",
       " '/mounts/Datasets1/ChallengeDeep/train/001_detritus',\n",
       " '/mounts/Datasets1/ChallengeDeep/train/002_Calocalanus_pavo',\n",
       " '/mounts/Datasets1/ChallengeDeep/train/003_larvae__Crustacea',\n",
       " '/mounts/Datasets1/ChallengeDeep/train/004_Podon',\n",
       " '/mounts/Datasets1/ChallengeDeep/train/005_Sapphirinidae',\n",
       " '/mounts/Datasets1/ChallengeDeep/train/006_Calanidae',\n",
       " '/mounts/Datasets1/ChallengeDeep/train/007_zoea__Decapoda',\n",
       " '/mounts/Datasets1/ChallengeDeep/train/008_Gammaridea',\n",
       " '/mounts/Datasets1/ChallengeDeep/train/009_Oikopleuridae',\n",
       " '/mounts/Datasets1/ChallengeDeep/train/010_Hyperiidea',\n",
       " '/mounts/Datasets1/ChallengeDeep/train/011_zoea__Galatheidae',\n",
       " '/mounts/Datasets1/ChallengeDeep/train/012_nectophore__Physonectae',\n",
       " '/mounts/Datasets1/ChallengeDeep/train/013_Rhincalanidae',\n",
       " '/mounts/Datasets1/ChallengeDeep/train/014_Acantharea',\n",
       " '/mounts/Datasets1/ChallengeDeep/train/015_Foraminifera',\n",
       " '/mounts/Datasets1/ChallengeDeep/train/016_nauplii__Crustacea',\n",
       " '/mounts/Datasets1/ChallengeDeep/train/017_gonophore__Diphyidae',\n",
       " '/mounts/Datasets1/ChallengeDeep/train/018_metanauplii',\n",
       " '/mounts/Datasets1/ChallengeDeep/train/019_megalopa',\n",
       " '/mounts/Datasets1/ChallengeDeep/train/020_Brachyura',\n",
       " '/mounts/Datasets1/ChallengeDeep/train/021_tail__Chaetognatha',\n",
       " '/mounts/Datasets1/ChallengeDeep/train/022_Doliolida',\n",
       " '/mounts/Datasets1/ChallengeDeep/train/023_Scyphozoa',\n",
       " '/mounts/Datasets1/ChallengeDeep/train/024_Ctenophora',\n",
       " '/mounts/Datasets1/ChallengeDeep/train/025_Bivalvia__Mollusca',\n",
       " '/mounts/Datasets1/ChallengeDeep/train/026_ephyra',\n",
       " '/mounts/Datasets1/ChallengeDeep/train/027_Temoridae',\n",
       " '/mounts/Datasets1/ChallengeDeep/train/028_scale',\n",
       " '/mounts/Datasets1/ChallengeDeep/train/029_Evadne',\n",
       " '/mounts/Datasets1/ChallengeDeep/train/030_Copilia',\n",
       " '/mounts/Datasets1/ChallengeDeep/train/031_Eucalanidae',\n",
       " '/mounts/Datasets1/ChallengeDeep/train/032_Pyrosomatida',\n",
       " '/mounts/Datasets1/ChallengeDeep/train/033_nectophore__Abylopsis_tetragona',\n",
       " '/mounts/Datasets1/ChallengeDeep/train/034_Actinopterygii',\n",
       " '/mounts/Datasets1/ChallengeDeep/train/035_Creseidae',\n",
       " '/mounts/Datasets1/ChallengeDeep/train/036_Calanoida',\n",
       " '/mounts/Datasets1/ChallengeDeep/train/037_Decapoda',\n",
       " '/mounts/Datasets1/ChallengeDeep/train/038_Obelia',\n",
       " '/mounts/Datasets1/ChallengeDeep/train/039_Noctiluca',\n",
       " '/mounts/Datasets1/ChallengeDeep/train/040_Spumellaria',\n",
       " '/mounts/Datasets1/ChallengeDeep/train/041_Chaetognatha',\n",
       " '/mounts/Datasets1/ChallengeDeep/train/042_Annelida',\n",
       " '/mounts/Datasets1/ChallengeDeep/train/043_larvae__Annelida',\n",
       " '/mounts/Datasets1/ChallengeDeep/train/044_Rhopalonema',\n",
       " '/mounts/Datasets1/ChallengeDeep/train/045_egg__other',\n",
       " '/mounts/Datasets1/ChallengeDeep/train/046_tail__Appendicularia',\n",
       " '/mounts/Datasets1/ChallengeDeep/train/047_Euchirella',\n",
       " '/mounts/Datasets1/ChallengeDeep/train/048_calyptopsis',\n",
       " '/mounts/Datasets1/ChallengeDeep/train/049_Haloptilus',\n",
       " '/mounts/Datasets1/ChallengeDeep/train/050_eudoxie__Diphyidae',\n",
       " '/mounts/Datasets1/ChallengeDeep/train/051_egg__Actinopterygii',\n",
       " '/mounts/Datasets1/ChallengeDeep/train/052_nectophore__Diphyidae',\n",
       " '/mounts/Datasets1/ChallengeDeep/train/053_head',\n",
       " '/mounts/Datasets1/ChallengeDeep/train/054_Penilia',\n",
       " '/mounts/Datasets1/ChallengeDeep/train/055_egg__Cavolinia_inflexa',\n",
       " '/mounts/Datasets1/ChallengeDeep/train/056_Pontellidae',\n",
       " '/mounts/Datasets1/ChallengeDeep/train/057_Coscinodiscus',\n",
       " '/mounts/Datasets1/ChallengeDeep/train/058_Acartiidae',\n",
       " '/mounts/Datasets1/ChallengeDeep/train/059_Corycaeidae',\n",
       " '/mounts/Datasets1/ChallengeDeep/train/060_artefact',\n",
       " '/mounts/Datasets1/ChallengeDeep/train/061_cirrus',\n",
       " '/mounts/Datasets1/ChallengeDeep/train/062_Luciferidae',\n",
       " '/mounts/Datasets1/ChallengeDeep/train/063_Limacinidae',\n",
       " '/mounts/Datasets1/ChallengeDeep/train/064_cyphonaute',\n",
       " '/mounts/Datasets1/ChallengeDeep/train/065_part__Copepoda',\n",
       " '/mounts/Datasets1/ChallengeDeep/train/066_Fritillariidae',\n",
       " '/mounts/Datasets1/ChallengeDeep/train/067_Echinoidea',\n",
       " '/mounts/Datasets1/ChallengeDeep/train/068_Neoceratium',\n",
       " '/mounts/Datasets1/ChallengeDeep/train/069_Phaeodaria',\n",
       " '/mounts/Datasets1/ChallengeDeep/train/070_Ostracoda',\n",
       " '/mounts/Datasets1/ChallengeDeep/train/071_Centropagidae',\n",
       " '/mounts/Datasets1/ChallengeDeep/train/072_Ophiuroidea',\n",
       " '/mounts/Datasets1/ChallengeDeep/train/073_nauplii__Cirripedia',\n",
       " '/mounts/Datasets1/ChallengeDeep/train/074_Salpida',\n",
       " '/mounts/Datasets1/ChallengeDeep/train/075_Oithonidae',\n",
       " '/mounts/Datasets1/ChallengeDeep/train/076_eudoxie__Abylopsis_tetragona',\n",
       " '/mounts/Datasets1/ChallengeDeep/train/077_cypris',\n",
       " '/mounts/Datasets1/ChallengeDeep/train/078_Oncaeidae',\n",
       " '/mounts/Datasets1/ChallengeDeep/train/079_gonophore__Abylopsis_tetragona',\n",
       " '/mounts/Datasets1/ChallengeDeep/train/080_Harpacticoida',\n",
       " '/mounts/Datasets1/ChallengeDeep/train/081_Cavoliniidae',\n",
       " '/mounts/Datasets1/ChallengeDeep/train/082_Aglaura',\n",
       " '/mounts/Datasets1/ChallengeDeep/train/083_Euchaetidae',\n",
       " '/mounts/Datasets1/ChallengeDeep/train/084_Tomopteridae',\n",
       " '/mounts/Datasets1/ChallengeDeep/train/085_Limacidae']"
      ]
     },
     "metadata": {},
     "execution_count": 11
    }
   ],
   "metadata": {}
  },
  {
   "cell_type": "code",
   "execution_count": 36,
   "source": [
    "import seaborn as sns\n",
    "\n",
    "number_of_images= []\n",
    "\n",
    "for category in category_paths:\n",
    "    number_of_images.append(len(os.listdir(category)))\n",
    "\n",
    "sns.scatterplot(y = number_of_images, x = np.arange(len(category_paths)))\n"
   ],
   "outputs": [
    {
     "output_type": "execute_result",
     "data": {
      "text/plain": [
       "<AxesSubplot:>"
      ]
     },
     "metadata": {},
     "execution_count": 36
    },
    {
     "output_type": "display_data",
     "data": {
      "text/plain": [
       "<Figure size 432x288 with 1 Axes>"
      ],
      "image/svg+xml": "<?xml version=\"1.0\" encoding=\"utf-8\" standalone=\"no\"?>\n<!DOCTYPE svg PUBLIC \"-//W3C//DTD SVG 1.1//EN\"\n  \"http://www.w3.org/Graphics/SVG/1.1/DTD/svg11.dtd\">\n<!-- Created with matplotlib (https://matplotlib.org/) -->\n<svg height=\"248.518125pt\" version=\"1.1\" viewBox=\"0 0 394.375 248.518125\" width=\"394.375pt\" xmlns=\"http://www.w3.org/2000/svg\" xmlns:xlink=\"http://www.w3.org/1999/xlink\">\n <metadata>\n  <rdf:RDF xmlns:cc=\"http://creativecommons.org/ns#\" xmlns:dc=\"http://purl.org/dc/elements/1.1/\" xmlns:rdf=\"http://www.w3.org/1999/02/22-rdf-syntax-ns#\">\n   <cc:Work>\n    <dc:type rdf:resource=\"http://purl.org/dc/dcmitype/StillImage\"/>\n    <dc:date>2022-01-04T18:47:54.101360</dc:date>\n    <dc:format>image/svg+xml</dc:format>\n    <dc:creator>\n     <cc:Agent>\n      <dc:title>Matplotlib v3.3.1, https://matplotlib.org/</dc:title>\n     </cc:Agent>\n    </dc:creator>\n   </cc:Work>\n  </rdf:RDF>\n </metadata>\n <defs>\n  <style type=\"text/css\">*{stroke-linecap:butt;stroke-linejoin:round;}</style>\n </defs>\n <g id=\"figure_1\">\n  <g id=\"patch_1\">\n   <path d=\"M 0 248.518125 \nL 394.375 248.518125 \nL 394.375 0 \nL 0 0 \nz\n\" style=\"fill:none;\"/>\n  </g>\n  <g id=\"axes_1\">\n   <g id=\"patch_2\">\n    <path d=\"M 52.375 224.64 \nL 387.175 224.64 \nL 387.175 7.2 \nL 52.375 7.2 \nz\n\" style=\"fill:#ffffff;\"/>\n   </g>\n   <g id=\"PathCollection_1\">\n    <defs>\n     <path d=\"M 0 3 \nC 0.795609 3 1.55874 2.683901 2.12132 2.12132 \nC 2.683901 1.55874 3 0.795609 3 0 \nC 3 -0.795609 2.683901 -1.55874 2.12132 -2.12132 \nC 1.55874 -2.683901 0.795609 -3 0 -3 \nC -0.795609 -3 -1.55874 -2.683901 -2.12132 -2.12132 \nC -2.683901 -1.55874 -3 -0.795609 -3 0 \nC -3 0.795609 -2.683901 1.55874 -2.12132 2.12132 \nC -1.55874 2.683901 -0.795609 3 0 3 \nz\n\" id=\"m5349fd4b24\" style=\"stroke:#ffffff;stroke-width:0.48;\"/>\n    </defs>\n    <g clip-path=\"url(#pe69ce2fe52)\">\n     <use style=\"fill:#1f77b4;stroke:#ffffff;stroke-width:0.48;\" x=\"67.593182\" xlink:href=\"#m5349fd4b24\" y=\"213.176819\"/>\n     <use style=\"fill:#1f77b4;stroke:#ffffff;stroke-width:0.48;\" x=\"71.17393\" xlink:href=\"#m5349fd4b24\" y=\"17.083636\"/>\n     <use style=\"fill:#1f77b4;stroke:#ffffff;stroke-width:0.48;\" x=\"74.754679\" xlink:href=\"#m5349fd4b24\" y=\"214.612695\"/>\n     <use style=\"fill:#1f77b4;stroke:#ffffff;stroke-width:0.48;\" x=\"78.335428\" xlink:href=\"#m5349fd4b24\" y=\"214.268539\"/>\n     <use style=\"fill:#1f77b4;stroke:#ffffff;stroke-width:0.48;\" x=\"81.916176\" xlink:href=\"#m5349fd4b24\" y=\"213.710098\"/>\n     <use style=\"fill:#1f77b4;stroke:#ffffff;stroke-width:0.48;\" x=\"85.496925\" xlink:href=\"#m5349fd4b24\" y=\"213.708475\"/>\n     <use style=\"fill:#1f77b4;stroke:#ffffff;stroke-width:0.48;\" x=\"89.077674\" xlink:href=\"#m5349fd4b24\" y=\"195.470665\"/>\n     <use style=\"fill:#1f77b4;stroke:#ffffff;stroke-width:0.48;\" x=\"92.658422\" xlink:href=\"#m5349fd4b24\" y=\"210.09403\"/>\n     <use style=\"fill:#1f77b4;stroke:#ffffff;stroke-width:0.48;\" x=\"96.239171\" xlink:href=\"#m5349fd4b24\" y=\"214.551818\"/>\n     <use style=\"fill:#1f77b4;stroke:#ffffff;stroke-width:0.48;\" x=\"99.81992\" xlink:href=\"#m5349fd4b24\" y=\"199.805077\"/>\n     <use style=\"fill:#1f77b4;stroke:#ffffff;stroke-width:0.48;\" x=\"103.400668\" xlink:href=\"#m5349fd4b24\" y=\"214.351332\"/>\n     <use style=\"fill:#1f77b4;stroke:#ffffff;stroke-width:0.48;\" x=\"106.981417\" xlink:href=\"#m5349fd4b24\" y=\"214.636234\"/>\n     <use style=\"fill:#1f77b4;stroke:#ffffff;stroke-width:0.48;\" x=\"110.562166\" xlink:href=\"#m5349fd4b24\" y=\"213.938182\"/>\n     <use style=\"fill:#1f77b4;stroke:#ffffff;stroke-width:0.48;\" x=\"114.142914\" xlink:href=\"#m5349fd4b24\" y=\"213.804254\"/>\n     <use style=\"fill:#1f77b4;stroke:#ffffff;stroke-width:0.48;\" x=\"117.723663\" xlink:href=\"#m5349fd4b24\" y=\"214.229578\"/>\n     <use style=\"fill:#1f77b4;stroke:#ffffff;stroke-width:0.48;\" x=\"121.304412\" xlink:href=\"#m5349fd4b24\" y=\"210.265296\"/>\n     <use style=\"fill:#1f77b4;stroke:#ffffff;stroke-width:0.48;\" x=\"124.88516\" xlink:href=\"#m5349fd4b24\" y=\"207.966596\"/>\n     <use style=\"fill:#1f77b4;stroke:#ffffff;stroke-width:0.48;\" x=\"128.465909\" xlink:href=\"#m5349fd4b24\" y=\"212.302632\"/>\n     <use style=\"fill:#1f77b4;stroke:#ffffff;stroke-width:0.48;\" x=\"132.046658\" xlink:href=\"#m5349fd4b24\" y=\"214.650033\"/>\n     <use style=\"fill:#1f77b4;stroke:#ffffff;stroke-width:0.48;\" x=\"135.627406\" xlink:href=\"#m5349fd4b24\" y=\"214.012858\"/>\n     <use style=\"fill:#1f77b4;stroke:#ffffff;stroke-width:0.48;\" x=\"139.208155\" xlink:href=\"#m5349fd4b24\" y=\"210.919516\"/>\n     <use style=\"fill:#1f77b4;stroke:#ffffff;stroke-width:0.48;\" x=\"142.788904\" xlink:href=\"#m5349fd4b24\" y=\"212.493378\"/>\n     <use style=\"fill:#1f77b4;stroke:#ffffff;stroke-width:0.48;\" x=\"146.369652\" xlink:href=\"#m5349fd4b24\" y=\"212.154905\"/>\n     <use style=\"fill:#1f77b4;stroke:#ffffff;stroke-width:0.48;\" x=\"149.950401\" xlink:href=\"#m5349fd4b24\" y=\"214.723084\"/>\n     <use style=\"fill:#1f77b4;stroke:#ffffff;stroke-width:0.48;\" x=\"153.53115\" xlink:href=\"#m5349fd4b24\" y=\"214.756364\"/>\n     <use style=\"fill:#1f77b4;stroke:#ffffff;stroke-width:0.48;\" x=\"157.111898\" xlink:href=\"#m5349fd4b24\" y=\"211.607827\"/>\n     <use style=\"fill:#1f77b4;stroke:#ffffff;stroke-width:0.48;\" x=\"160.692647\" xlink:href=\"#m5349fd4b24\" y=\"214.706851\"/>\n     <use style=\"fill:#1f77b4;stroke:#ffffff;stroke-width:0.48;\" x=\"164.273396\" xlink:href=\"#m5349fd4b24\" y=\"208.130557\"/>\n     <use style=\"fill:#1f77b4;stroke:#ffffff;stroke-width:0.48;\" x=\"167.854144\" xlink:href=\"#m5349fd4b24\" y=\"214.318864\"/>\n     <use style=\"fill:#1f77b4;stroke:#ffffff;stroke-width:0.48;\" x=\"171.434893\" xlink:href=\"#m5349fd4b24\" y=\"199.181701\"/>\n     <use style=\"fill:#1f77b4;stroke:#ffffff;stroke-width:0.48;\" x=\"175.015642\" xlink:href=\"#m5349fd4b24\" y=\"214.229578\"/>\n     <use style=\"fill:#1f77b4;stroke:#ffffff;stroke-width:0.48;\" x=\"178.59639\" xlink:href=\"#m5349fd4b24\" y=\"211.366756\"/>\n     <use style=\"fill:#1f77b4;stroke:#ffffff;stroke-width:0.48;\" x=\"182.177139\" xlink:href=\"#m5349fd4b24\" y=\"214.513669\"/>\n     <use style=\"fill:#1f77b4;stroke:#ffffff;stroke-width:0.48;\" x=\"185.757888\" xlink:href=\"#m5349fd4b24\" y=\"214.633799\"/>\n     <use style=\"fill:#1f77b4;stroke:#ffffff;stroke-width:0.48;\" x=\"189.338636\" xlink:href=\"#m5349fd4b24\" y=\"213.602144\"/>\n     <use style=\"fill:#1f77b4;stroke:#ffffff;stroke-width:0.48;\" x=\"192.919385\" xlink:href=\"#m5349fd4b24\" y=\"213.269352\"/>\n     <use style=\"fill:#1f77b4;stroke:#ffffff;stroke-width:0.48;\" x=\"196.500134\" xlink:href=\"#m5349fd4b24\" y=\"68.68262\"/>\n     <use style=\"fill:#1f77b4;stroke:#ffffff;stroke-width:0.48;\" x=\"200.080882\" xlink:href=\"#m5349fd4b24\" y=\"211.914645\"/>\n     <use style=\"fill:#1f77b4;stroke:#ffffff;stroke-width:0.48;\" x=\"203.661631\" xlink:href=\"#m5349fd4b24\" y=\"213.900845\"/>\n     <use style=\"fill:#1f77b4;stroke:#ffffff;stroke-width:0.48;\" x=\"207.24238\" xlink:href=\"#m5349fd4b24\" y=\"209.870816\"/>\n     <use style=\"fill:#1f77b4;stroke:#ffffff;stroke-width:0.48;\" x=\"210.823128\" xlink:href=\"#m5349fd4b24\" y=\"214.671136\"/>\n     <use style=\"fill:#1f77b4;stroke:#ffffff;stroke-width:0.48;\" x=\"214.403877\" xlink:href=\"#m5349fd4b24\" y=\"187.881386\"/>\n     <use style=\"fill:#1f77b4;stroke:#ffffff;stroke-width:0.48;\" x=\"217.984626\" xlink:href=\"#m5349fd4b24\" y=\"213.094027\"/>\n     <use style=\"fill:#1f77b4;stroke:#ffffff;stroke-width:0.48;\" x=\"221.565374\" xlink:href=\"#m5349fd4b24\" y=\"214.648409\"/>\n     <use style=\"fill:#1f77b4;stroke:#ffffff;stroke-width:0.48;\" x=\"225.146123\" xlink:href=\"#m5349fd4b24\" y=\"214.536396\"/>\n     <use style=\"fill:#1f77b4;stroke:#ffffff;stroke-width:0.48;\" x=\"228.726872\" xlink:href=\"#m5349fd4b24\" y=\"202.774231\"/>\n     <use style=\"fill:#1f77b4;stroke:#ffffff;stroke-width:0.48;\" x=\"232.30762\" xlink:href=\"#m5349fd4b24\" y=\"211.045328\"/>\n     <use style=\"fill:#1f77b4;stroke:#ffffff;stroke-width:0.48;\" x=\"235.888369\" xlink:href=\"#m5349fd4b24\" y=\"214.659773\"/>\n     <use style=\"fill:#1f77b4;stroke:#ffffff;stroke-width:0.48;\" x=\"239.469118\" xlink:href=\"#m5349fd4b24\" y=\"211.620814\"/>\n     <use style=\"fill:#1f77b4;stroke:#ffffff;stroke-width:0.48;\" x=\"243.049866\" xlink:href=\"#m5349fd4b24\" y=\"211.553444\"/>\n     <use style=\"fill:#1f77b4;stroke:#ffffff;stroke-width:0.48;\" x=\"246.630615\" xlink:href=\"#m5349fd4b24\" y=\"212.261236\"/>\n     <use style=\"fill:#1f77b4;stroke:#ffffff;stroke-width:0.48;\" x=\"250.211364\" xlink:href=\"#m5349fd4b24\" y=\"213.172761\"/>\n     <use style=\"fill:#1f77b4;stroke:#ffffff;stroke-width:0.48;\" x=\"253.792112\" xlink:href=\"#m5349fd4b24\" y=\"210.663835\"/>\n     <use style=\"fill:#1f77b4;stroke:#ffffff;stroke-width:0.48;\" x=\"257.372861\" xlink:href=\"#m5349fd4b24\" y=\"214.588344\"/>\n     <use style=\"fill:#1f77b4;stroke:#ffffff;stroke-width:0.48;\" x=\"260.95361\" xlink:href=\"#m5349fd4b24\" y=\"209.617569\"/>\n     <use style=\"fill:#1f77b4;stroke:#ffffff;stroke-width:0.48;\" x=\"264.534358\" xlink:href=\"#m5349fd4b24\" y=\"214.171949\"/>\n     <use style=\"fill:#1f77b4;stroke:#ffffff;stroke-width:0.48;\" x=\"268.115107\" xlink:href=\"#m5349fd4b24\" y=\"213.740131\"/>\n     <use style=\"fill:#1f77b4;stroke:#ffffff;stroke-width:0.48;\" x=\"271.695856\" xlink:href=\"#m5349fd4b24\" y=\"204.529911\"/>\n     <use style=\"fill:#1f77b4;stroke:#ffffff;stroke-width:0.48;\" x=\"275.276604\" xlink:href=\"#m5349fd4b24\" y=\"180.617593\"/>\n     <use style=\"fill:#1f77b4;stroke:#ffffff;stroke-width:0.48;\" x=\"278.857353\" xlink:href=\"#m5349fd4b24\" y=\"206.663026\"/>\n     <use style=\"fill:#1f77b4;stroke:#ffffff;stroke-width:0.48;\" x=\"282.438102\" xlink:href=\"#m5349fd4b24\" y=\"211.973898\"/>\n     <use style=\"fill:#1f77b4;stroke:#ffffff;stroke-width:0.48;\" x=\"286.01885\" xlink:href=\"#m5349fd4b24\" y=\"214.568052\"/>\n     <use style=\"fill:#1f77b4;stroke:#ffffff;stroke-width:0.48;\" x=\"289.599599\" xlink:href=\"#m5349fd4b24\" y=\"214.415455\"/>\n     <use style=\"fill:#1f77b4;stroke:#ffffff;stroke-width:0.48;\" x=\"293.180348\" xlink:href=\"#m5349fd4b24\" y=\"206.638675\"/>\n     <use style=\"fill:#1f77b4;stroke:#ffffff;stroke-width:0.48;\" x=\"296.761096\" xlink:href=\"#m5349fd4b24\" y=\"208.120005\"/>\n     <use style=\"fill:#1f77b4;stroke:#ffffff;stroke-width:0.48;\" x=\"300.341845\" xlink:href=\"#m5349fd4b24\" y=\"214.484448\"/>\n     <use style=\"fill:#1f77b4;stroke:#ffffff;stroke-width:0.48;\" x=\"303.922594\" xlink:href=\"#m5349fd4b24\" y=\"212.908151\"/>\n     <use style=\"fill:#1f77b4;stroke:#ffffff;stroke-width:0.48;\" x=\"307.503342\" xlink:href=\"#m5349fd4b24\" y=\"214.596461\"/>\n     <use style=\"fill:#1f77b4;stroke:#ffffff;stroke-width:0.48;\" x=\"311.084091\" xlink:href=\"#m5349fd4b24\" y=\"214.3075\"/>\n     <use style=\"fill:#1f77b4;stroke:#ffffff;stroke-width:0.48;\" x=\"314.66484\" xlink:href=\"#m5349fd4b24\" y=\"202.261244\"/>\n     <use style=\"fill:#1f77b4;stroke:#ffffff;stroke-width:0.48;\" x=\"318.245588\" xlink:href=\"#m5349fd4b24\" y=\"204.271794\"/>\n     <use style=\"fill:#1f77b4;stroke:#ffffff;stroke-width:0.48;\" x=\"321.826337\" xlink:href=\"#m5349fd4b24\" y=\"211.222276\"/>\n     <use style=\"fill:#1f77b4;stroke:#ffffff;stroke-width:0.48;\" x=\"325.407086\" xlink:href=\"#m5349fd4b24\" y=\"213.743377\"/>\n     <use style=\"fill:#1f77b4;stroke:#ffffff;stroke-width:0.48;\" x=\"328.987834\" xlink:href=\"#m5349fd4b24\" y=\"210.237699\"/>\n     <use style=\"fill:#1f77b4;stroke:#ffffff;stroke-width:0.48;\" x=\"332.568583\" xlink:href=\"#m5349fd4b24\" y=\"209.107829\"/>\n     <use style=\"fill:#1f77b4;stroke:#ffffff;stroke-width:0.48;\" x=\"336.149332\" xlink:href=\"#m5349fd4b24\" y=\"171.452828\"/>\n     <use style=\"fill:#1f77b4;stroke:#ffffff;stroke-width:0.48;\" x=\"339.73008\" xlink:href=\"#m5349fd4b24\" y=\"214.595649\"/>\n     <use style=\"fill:#1f77b4;stroke:#ffffff;stroke-width:0.48;\" x=\"343.310829\" xlink:href=\"#m5349fd4b24\" y=\"214.273409\"/>\n     <use style=\"fill:#1f77b4;stroke:#ffffff;stroke-width:0.48;\" x=\"346.891578\" xlink:href=\"#m5349fd4b24\" y=\"205.460105\"/>\n     <use style=\"fill:#1f77b4;stroke:#ffffff;stroke-width:0.48;\" x=\"350.472326\" xlink:href=\"#m5349fd4b24\" y=\"214.714968\"/>\n     <use style=\"fill:#1f77b4;stroke:#ffffff;stroke-width:0.48;\" x=\"354.053075\" xlink:href=\"#m5349fd4b24\" y=\"212.684937\"/>\n     <use style=\"fill:#1f77b4;stroke:#ffffff;stroke-width:0.48;\" x=\"357.633824\" xlink:href=\"#m5349fd4b24\" y=\"212.743378\"/>\n     <use style=\"fill:#1f77b4;stroke:#ffffff;stroke-width:0.48;\" x=\"361.214572\" xlink:href=\"#m5349fd4b24\" y=\"214.471461\"/>\n     <use style=\"fill:#1f77b4;stroke:#ffffff;stroke-width:0.48;\" x=\"364.795321\" xlink:href=\"#m5349fd4b24\" y=\"213.093216\"/>\n     <use style=\"fill:#1f77b4;stroke:#ffffff;stroke-width:0.48;\" x=\"368.37607\" xlink:href=\"#m5349fd4b24\" y=\"214.646786\"/>\n     <use style=\"fill:#1f77b4;stroke:#ffffff;stroke-width:0.48;\" x=\"371.956818\" xlink:href=\"#m5349fd4b24\" y=\"214.196299\"/>\n    </g>\n   </g>\n   <g id=\"matplotlib.axis_1\">\n    <g id=\"xtick_1\">\n     <g id=\"line2d_1\">\n      <defs>\n       <path d=\"M 0 0 \nL 0 3.5 \n\" id=\"m692ba04e1b\" style=\"stroke:#000000;stroke-width:0.8;\"/>\n      </defs>\n      <g>\n       <use style=\"stroke:#000000;stroke-width:0.8;\" x=\"67.593182\" xlink:href=\"#m692ba04e1b\" y=\"224.64\"/>\n      </g>\n     </g>\n     <g id=\"text_1\">\n      <!-- 0 -->\n      <g transform=\"translate(64.411932 239.238438)scale(0.1 -0.1)\">\n       <defs>\n        <path d=\"M 31.78125 66.40625 \nQ 24.171875 66.40625 20.328125 58.90625 \nQ 16.5 51.421875 16.5 36.375 \nQ 16.5 21.390625 20.328125 13.890625 \nQ 24.171875 6.390625 31.78125 6.390625 \nQ 39.453125 6.390625 43.28125 13.890625 \nQ 47.125 21.390625 47.125 36.375 \nQ 47.125 51.421875 43.28125 58.90625 \nQ 39.453125 66.40625 31.78125 66.40625 \nz\nM 31.78125 74.21875 \nQ 44.046875 74.21875 50.515625 64.515625 \nQ 56.984375 54.828125 56.984375 36.375 \nQ 56.984375 17.96875 50.515625 8.265625 \nQ 44.046875 -1.421875 31.78125 -1.421875 \nQ 19.53125 -1.421875 13.0625 8.265625 \nQ 6.59375 17.96875 6.59375 36.375 \nQ 6.59375 54.828125 13.0625 64.515625 \nQ 19.53125 74.21875 31.78125 74.21875 \nz\n\" id=\"DejaVuSans-48\"/>\n       </defs>\n       <use xlink:href=\"#DejaVuSans-48\"/>\n      </g>\n     </g>\n    </g>\n    <g id=\"xtick_2\">\n     <g id=\"line2d_2\">\n      <g>\n       <use style=\"stroke:#000000;stroke-width:0.8;\" x=\"139.208155\" xlink:href=\"#m692ba04e1b\" y=\"224.64\"/>\n      </g>\n     </g>\n     <g id=\"text_2\">\n      <!-- 20 -->\n      <g transform=\"translate(132.845655 239.238438)scale(0.1 -0.1)\">\n       <defs>\n        <path d=\"M 19.1875 8.296875 \nL 53.609375 8.296875 \nL 53.609375 0 \nL 7.328125 0 \nL 7.328125 8.296875 \nQ 12.9375 14.109375 22.625 23.890625 \nQ 32.328125 33.6875 34.8125 36.53125 \nQ 39.546875 41.84375 41.421875 45.53125 \nQ 43.3125 49.21875 43.3125 52.78125 \nQ 43.3125 58.59375 39.234375 62.25 \nQ 35.15625 65.921875 28.609375 65.921875 \nQ 23.96875 65.921875 18.8125 64.3125 \nQ 13.671875 62.703125 7.8125 59.421875 \nL 7.8125 69.390625 \nQ 13.765625 71.78125 18.9375 73 \nQ 24.125 74.21875 28.421875 74.21875 \nQ 39.75 74.21875 46.484375 68.546875 \nQ 53.21875 62.890625 53.21875 53.421875 \nQ 53.21875 48.921875 51.53125 44.890625 \nQ 49.859375 40.875 45.40625 35.40625 \nQ 44.1875 33.984375 37.640625 27.21875 \nQ 31.109375 20.453125 19.1875 8.296875 \nz\n\" id=\"DejaVuSans-50\"/>\n       </defs>\n       <use xlink:href=\"#DejaVuSans-50\"/>\n       <use x=\"63.623047\" xlink:href=\"#DejaVuSans-48\"/>\n      </g>\n     </g>\n    </g>\n    <g id=\"xtick_3\">\n     <g id=\"line2d_3\">\n      <g>\n       <use style=\"stroke:#000000;stroke-width:0.8;\" x=\"210.823128\" xlink:href=\"#m692ba04e1b\" y=\"224.64\"/>\n      </g>\n     </g>\n     <g id=\"text_3\">\n      <!-- 40 -->\n      <g transform=\"translate(204.460628 239.238438)scale(0.1 -0.1)\">\n       <defs>\n        <path d=\"M 37.796875 64.3125 \nL 12.890625 25.390625 \nL 37.796875 25.390625 \nz\nM 35.203125 72.90625 \nL 47.609375 72.90625 \nL 47.609375 25.390625 \nL 58.015625 25.390625 \nL 58.015625 17.1875 \nL 47.609375 17.1875 \nL 47.609375 0 \nL 37.796875 0 \nL 37.796875 17.1875 \nL 4.890625 17.1875 \nL 4.890625 26.703125 \nz\n\" id=\"DejaVuSans-52\"/>\n       </defs>\n       <use xlink:href=\"#DejaVuSans-52\"/>\n       <use x=\"63.623047\" xlink:href=\"#DejaVuSans-48\"/>\n      </g>\n     </g>\n    </g>\n    <g id=\"xtick_4\">\n     <g id=\"line2d_4\">\n      <g>\n       <use style=\"stroke:#000000;stroke-width:0.8;\" x=\"282.438102\" xlink:href=\"#m692ba04e1b\" y=\"224.64\"/>\n      </g>\n     </g>\n     <g id=\"text_4\">\n      <!-- 60 -->\n      <g transform=\"translate(276.075602 239.238438)scale(0.1 -0.1)\">\n       <defs>\n        <path d=\"M 33.015625 40.375 \nQ 26.375 40.375 22.484375 35.828125 \nQ 18.609375 31.296875 18.609375 23.390625 \nQ 18.609375 15.53125 22.484375 10.953125 \nQ 26.375 6.390625 33.015625 6.390625 \nQ 39.65625 6.390625 43.53125 10.953125 \nQ 47.40625 15.53125 47.40625 23.390625 \nQ 47.40625 31.296875 43.53125 35.828125 \nQ 39.65625 40.375 33.015625 40.375 \nz\nM 52.59375 71.296875 \nL 52.59375 62.3125 \nQ 48.875 64.0625 45.09375 64.984375 \nQ 41.3125 65.921875 37.59375 65.921875 \nQ 27.828125 65.921875 22.671875 59.328125 \nQ 17.53125 52.734375 16.796875 39.40625 \nQ 19.671875 43.65625 24.015625 45.921875 \nQ 28.375 48.1875 33.59375 48.1875 \nQ 44.578125 48.1875 50.953125 41.515625 \nQ 57.328125 34.859375 57.328125 23.390625 \nQ 57.328125 12.15625 50.6875 5.359375 \nQ 44.046875 -1.421875 33.015625 -1.421875 \nQ 20.359375 -1.421875 13.671875 8.265625 \nQ 6.984375 17.96875 6.984375 36.375 \nQ 6.984375 53.65625 15.1875 63.9375 \nQ 23.390625 74.21875 37.203125 74.21875 \nQ 40.921875 74.21875 44.703125 73.484375 \nQ 48.484375 72.75 52.59375 71.296875 \nz\n\" id=\"DejaVuSans-54\"/>\n       </defs>\n       <use xlink:href=\"#DejaVuSans-54\"/>\n       <use x=\"63.623047\" xlink:href=\"#DejaVuSans-48\"/>\n      </g>\n     </g>\n    </g>\n    <g id=\"xtick_5\">\n     <g id=\"line2d_5\">\n      <g>\n       <use style=\"stroke:#000000;stroke-width:0.8;\" x=\"354.053075\" xlink:href=\"#m692ba04e1b\" y=\"224.64\"/>\n      </g>\n     </g>\n     <g id=\"text_5\">\n      <!-- 80 -->\n      <g transform=\"translate(347.690575 239.238438)scale(0.1 -0.1)\">\n       <defs>\n        <path d=\"M 31.78125 34.625 \nQ 24.75 34.625 20.71875 30.859375 \nQ 16.703125 27.09375 16.703125 20.515625 \nQ 16.703125 13.921875 20.71875 10.15625 \nQ 24.75 6.390625 31.78125 6.390625 \nQ 38.8125 6.390625 42.859375 10.171875 \nQ 46.921875 13.96875 46.921875 20.515625 \nQ 46.921875 27.09375 42.890625 30.859375 \nQ 38.875 34.625 31.78125 34.625 \nz\nM 21.921875 38.8125 \nQ 15.578125 40.375 12.03125 44.71875 \nQ 8.5 49.078125 8.5 55.328125 \nQ 8.5 64.0625 14.71875 69.140625 \nQ 20.953125 74.21875 31.78125 74.21875 \nQ 42.671875 74.21875 48.875 69.140625 \nQ 55.078125 64.0625 55.078125 55.328125 \nQ 55.078125 49.078125 51.53125 44.71875 \nQ 48 40.375 41.703125 38.8125 \nQ 48.828125 37.15625 52.796875 32.3125 \nQ 56.78125 27.484375 56.78125 20.515625 \nQ 56.78125 9.90625 50.3125 4.234375 \nQ 43.84375 -1.421875 31.78125 -1.421875 \nQ 19.734375 -1.421875 13.25 4.234375 \nQ 6.78125 9.90625 6.78125 20.515625 \nQ 6.78125 27.484375 10.78125 32.3125 \nQ 14.796875 37.15625 21.921875 38.8125 \nz\nM 18.3125 54.390625 \nQ 18.3125 48.734375 21.84375 45.5625 \nQ 25.390625 42.390625 31.78125 42.390625 \nQ 38.140625 42.390625 41.71875 45.5625 \nQ 45.3125 48.734375 45.3125 54.390625 \nQ 45.3125 60.0625 41.71875 63.234375 \nQ 38.140625 66.40625 31.78125 66.40625 \nQ 25.390625 66.40625 21.84375 63.234375 \nQ 18.3125 60.0625 18.3125 54.390625 \nz\n\" id=\"DejaVuSans-56\"/>\n       </defs>\n       <use xlink:href=\"#DejaVuSans-56\"/>\n       <use x=\"63.623047\" xlink:href=\"#DejaVuSans-48\"/>\n      </g>\n     </g>\n    </g>\n   </g>\n   <g id=\"matplotlib.axis_2\">\n    <g id=\"ytick_1\">\n     <g id=\"line2d_6\">\n      <defs>\n       <path d=\"M 0 0 \nL -3.5 0 \n\" id=\"me6b646cc85\" style=\"stroke:#000000;stroke-width:0.8;\"/>\n      </defs>\n      <g>\n       <use style=\"stroke:#000000;stroke-width:0.8;\" x=\"52.375\" xlink:href=\"#me6b646cc85\" y=\"214.786396\"/>\n      </g>\n     </g>\n     <g id=\"text_6\">\n      <!-- 0 -->\n      <g transform=\"translate(39.0125 218.585615)scale(0.1 -0.1)\">\n       <use xlink:href=\"#DejaVuSans-48\"/>\n      </g>\n     </g>\n    </g>\n    <g id=\"ytick_2\">\n     <g id=\"line2d_7\">\n      <g>\n       <use style=\"stroke:#000000;stroke-width:0.8;\" x=\"52.375\" xlink:href=\"#me6b646cc85\" y=\"174.202014\"/>\n      </g>\n     </g>\n     <g id=\"text_7\">\n      <!-- 50000 -->\n      <g transform=\"translate(13.5625 178.001233)scale(0.1 -0.1)\">\n       <defs>\n        <path d=\"M 10.796875 72.90625 \nL 49.515625 72.90625 \nL 49.515625 64.59375 \nL 19.828125 64.59375 \nL 19.828125 46.734375 \nQ 21.96875 47.46875 24.109375 47.828125 \nQ 26.265625 48.1875 28.421875 48.1875 \nQ 40.625 48.1875 47.75 41.5 \nQ 54.890625 34.8125 54.890625 23.390625 \nQ 54.890625 11.625 47.5625 5.09375 \nQ 40.234375 -1.421875 26.90625 -1.421875 \nQ 22.3125 -1.421875 17.546875 -0.640625 \nQ 12.796875 0.140625 7.71875 1.703125 \nL 7.71875 11.625 \nQ 12.109375 9.234375 16.796875 8.0625 \nQ 21.484375 6.890625 26.703125 6.890625 \nQ 35.15625 6.890625 40.078125 11.328125 \nQ 45.015625 15.765625 45.015625 23.390625 \nQ 45.015625 31 40.078125 35.4375 \nQ 35.15625 39.890625 26.703125 39.890625 \nQ 22.75 39.890625 18.8125 39.015625 \nQ 14.890625 38.140625 10.796875 36.28125 \nz\n\" id=\"DejaVuSans-53\"/>\n       </defs>\n       <use xlink:href=\"#DejaVuSans-53\"/>\n       <use x=\"63.623047\" xlink:href=\"#DejaVuSans-48\"/>\n       <use x=\"127.246094\" xlink:href=\"#DejaVuSans-48\"/>\n       <use x=\"190.869141\" xlink:href=\"#DejaVuSans-48\"/>\n       <use x=\"254.492188\" xlink:href=\"#DejaVuSans-48\"/>\n      </g>\n     </g>\n    </g>\n    <g id=\"ytick_3\">\n     <g id=\"line2d_8\">\n      <g>\n       <use style=\"stroke:#000000;stroke-width:0.8;\" x=\"52.375\" xlink:href=\"#me6b646cc85\" y=\"133.617632\"/>\n      </g>\n     </g>\n     <g id=\"text_8\">\n      <!-- 100000 -->\n      <g transform=\"translate(7.2 137.41685)scale(0.1 -0.1)\">\n       <defs>\n        <path d=\"M 12.40625 8.296875 \nL 28.515625 8.296875 \nL 28.515625 63.921875 \nL 10.984375 60.40625 \nL 10.984375 69.390625 \nL 28.421875 72.90625 \nL 38.28125 72.90625 \nL 38.28125 8.296875 \nL 54.390625 8.296875 \nL 54.390625 0 \nL 12.40625 0 \nz\n\" id=\"DejaVuSans-49\"/>\n       </defs>\n       <use xlink:href=\"#DejaVuSans-49\"/>\n       <use x=\"63.623047\" xlink:href=\"#DejaVuSans-48\"/>\n       <use x=\"127.246094\" xlink:href=\"#DejaVuSans-48\"/>\n       <use x=\"190.869141\" xlink:href=\"#DejaVuSans-48\"/>\n       <use x=\"254.492188\" xlink:href=\"#DejaVuSans-48\"/>\n       <use x=\"318.115234\" xlink:href=\"#DejaVuSans-48\"/>\n      </g>\n     </g>\n    </g>\n    <g id=\"ytick_4\">\n     <g id=\"line2d_9\">\n      <g>\n       <use style=\"stroke:#000000;stroke-width:0.8;\" x=\"52.375\" xlink:href=\"#me6b646cc85\" y=\"93.033249\"/>\n      </g>\n     </g>\n     <g id=\"text_9\">\n      <!-- 150000 -->\n      <g transform=\"translate(7.2 96.832468)scale(0.1 -0.1)\">\n       <use xlink:href=\"#DejaVuSans-49\"/>\n       <use x=\"63.623047\" xlink:href=\"#DejaVuSans-53\"/>\n       <use x=\"127.246094\" xlink:href=\"#DejaVuSans-48\"/>\n       <use x=\"190.869141\" xlink:href=\"#DejaVuSans-48\"/>\n       <use x=\"254.492188\" xlink:href=\"#DejaVuSans-48\"/>\n       <use x=\"318.115234\" xlink:href=\"#DejaVuSans-48\"/>\n      </g>\n     </g>\n    </g>\n    <g id=\"ytick_5\">\n     <g id=\"line2d_10\">\n      <g>\n       <use style=\"stroke:#000000;stroke-width:0.8;\" x=\"52.375\" xlink:href=\"#me6b646cc85\" y=\"52.448867\"/>\n      </g>\n     </g>\n     <g id=\"text_10\">\n      <!-- 200000 -->\n      <g transform=\"translate(7.2 56.248086)scale(0.1 -0.1)\">\n       <use xlink:href=\"#DejaVuSans-50\"/>\n       <use x=\"63.623047\" xlink:href=\"#DejaVuSans-48\"/>\n       <use x=\"127.246094\" xlink:href=\"#DejaVuSans-48\"/>\n       <use x=\"190.869141\" xlink:href=\"#DejaVuSans-48\"/>\n       <use x=\"254.492188\" xlink:href=\"#DejaVuSans-48\"/>\n       <use x=\"318.115234\" xlink:href=\"#DejaVuSans-48\"/>\n      </g>\n     </g>\n    </g>\n    <g id=\"ytick_6\">\n     <g id=\"line2d_11\">\n      <g>\n       <use style=\"stroke:#000000;stroke-width:0.8;\" x=\"52.375\" xlink:href=\"#me6b646cc85\" y=\"11.864485\"/>\n      </g>\n     </g>\n     <g id=\"text_11\">\n      <!-- 250000 -->\n      <g transform=\"translate(7.2 15.663704)scale(0.1 -0.1)\">\n       <use xlink:href=\"#DejaVuSans-50\"/>\n       <use x=\"63.623047\" xlink:href=\"#DejaVuSans-53\"/>\n       <use x=\"127.246094\" xlink:href=\"#DejaVuSans-48\"/>\n       <use x=\"190.869141\" xlink:href=\"#DejaVuSans-48\"/>\n       <use x=\"254.492188\" xlink:href=\"#DejaVuSans-48\"/>\n       <use x=\"318.115234\" xlink:href=\"#DejaVuSans-48\"/>\n      </g>\n     </g>\n    </g>\n   </g>\n   <g id=\"patch_3\">\n    <path d=\"M 52.375 224.64 \nL 52.375 7.2 \n\" style=\"fill:none;stroke:#000000;stroke-linecap:square;stroke-linejoin:miter;stroke-width:0.8;\"/>\n   </g>\n   <g id=\"patch_4\">\n    <path d=\"M 387.175 224.64 \nL 387.175 7.2 \n\" style=\"fill:none;stroke:#000000;stroke-linecap:square;stroke-linejoin:miter;stroke-width:0.8;\"/>\n   </g>\n   <g id=\"patch_5\">\n    <path d=\"M 52.375 224.64 \nL 387.175 224.64 \n\" style=\"fill:none;stroke:#000000;stroke-linecap:square;stroke-linejoin:miter;stroke-width:0.8;\"/>\n   </g>\n   <g id=\"patch_6\">\n    <path d=\"M 52.375 7.2 \nL 387.175 7.2 \n\" style=\"fill:none;stroke:#000000;stroke-linecap:square;stroke-linejoin:miter;stroke-width:0.8;\"/>\n   </g>\n  </g>\n </g>\n <defs>\n  <clipPath id=\"pe69ce2fe52\">\n   <rect height=\"217.44\" width=\"334.8\" x=\"52.375\" y=\"7.2\"/>\n  </clipPath>\n </defs>\n</svg>\n",
      "image/png": "[encoded data removed]"
     },
     "metadata": {
      "needs_background": "light"
     }
    }
   ],
   "metadata": {}
  },
  {
   "cell_type": "code",
   "execution_count": 51,
   "source": [
    "print(\"Nombre moyen d'image par catégorie :\", np.mean(number_of_images))\n",
    "print(\"Nombre médian d'image par catégorie :\", np.median(number_of_images))\n",
    "print(\"Nombre max d'image par catégorie :\", np.max(number_of_images))\n",
    "print(\"Nombre min d'image par catégorie :\", np.min(number_of_images))\n",
    "\n",
    "print(\"Categories with more than 100000 images :\", *np.array(list_file)[np.array(number_of_images) > 100000])\n",
    "print(\"Categories with less than 100 images :\", *np.array(list_file)[np.array(number_of_images) < 100])"
   ],
   "outputs": [
    {
     "output_type": "stream",
     "name": "stdout",
     "text": [
      "Nombre moyen d'image par catégorie : 9946.441860465116\n",
      "Nombre médian d'image par catégorie : 2036.5\n",
      "Nombre max d'image par catégorie : 243570\n",
      "Nombre min d'image par catégorie : 37\n",
      "Categories with more than 100000 images : 001_detritus 036_Calanoida\n",
      "Categories with less than 100 images : 023_Scyphozoa 024_Ctenophora 026_ephyra 079_gonophore__Abylopsis_tetragona\n"
     ]
    }
   ],
   "metadata": {}
  },
  {
   "cell_type": "markdown",
   "source": [
    "Les catégories ont généralement quelques milliers d'image mais cela varie énormément. Il faudra notamment porter beaucoup d'attention aux catégories avec moins de 100 images car ce sont celles que l'algo aura le plus de mal à prédire certainement. \n",
    "On a aussi 2 catégories avec plus de 100 000 images.\n",
    "- "
   ],
   "metadata": {}
  },
  {
   "cell_type": "markdown",
   "source": [],
   "metadata": {}
  }
 ],
 "metadata": {
  "orig_nbformat": 4,
  "kernelspec": {
   "name": "python3",
   "display_name": "Python 3.6.9 64-bit"
  },
  "language_info": {
   "name": "python",
   "version": "3.6.9",
   "mimetype": "text/x-python",
   "codemirror_mode": {
    "name": "ipython",
    "version": 3
   },
   "pygments_lexer": "ipython3",
   "nbconvert_exporter": "python",
   "file_extension": ".py"
  },
  "interpreter": {
   "hash": "31f2aee4e71d21fbe5cf8b01ff0e069b9275f58929596ceb00d14d90e3e16cd6"
  }
 },
 "nbformat": 4,
 "nbformat_minor": 2
}