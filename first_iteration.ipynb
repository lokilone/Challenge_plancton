{
 "cells": [
  {
   "cell_type": "code",
   "execution_count": 19,
   "metadata": {},
   "outputs": [
    {
     "name": "stdout",
     "output_type": "stream",
     "text": [
      "True\n"
     ]
    }
   ],
   "source": [
    "import os\n",
    "import numpy as np \n",
    "import matplotlib.pyplot as plt\n",
    "\n",
    "print(os.path.exists(\"/mounts/Datasets1/ChallengeDeep/train/\"))\n",
    "\n",
    "train_path = \"/mounts/Datasets1/ChallengeDeep/train/\"\n",
    "\n",
    "categories = np.sort(os.listdir(train_path))"
   ]
  },
  {
   "cell_type": "code",
   "execution_count": 20,
   "metadata": {},
   "outputs": [],
   "source": [
    "category_paths = []\n",
    "\n",
    "for category in categories :\n",
    "    category_paths.append(os.path.join(train_path, category))"
   ]
  },
  {
   "cell_type": "code",
   "execution_count": 21,
   "metadata": {},
   "outputs": [],
   "source": [
    "number_of_images = []\n",
    "image_paths = {}\n",
    "image_names = {}\n",
    "\n",
    "for category_path, category in zip(category_paths, categories):\n",
    "    number_of_images.append(len(os.listdir(category_path)))\n",
    "    image_names[category] = np.sort(os.listdir(category_path))\n",
    "    image_paths[category] = []\n",
    "    for image in image_names[category]:\n",
    "        image_paths[category].append(os.path.join(category_path, image))"
   ]
  },
  {
   "cell_type": "code",
   "execution_count": 22,
   "metadata": {},
   "outputs": [
    {
     "name": "stdout",
     "output_type": "stream",
     "text": [
      "Nombre moyen d'image par catégorie : 9946.441860465116\n",
      "Nombre médian d'image par catégorie : 2036.5\n",
      "Nombre max d'image par catégorie : 243570\n",
      "Nombre min d'image par catégorie : 37\n",
      "Categories with more than 100000 images : 001_detritus 036_Calanoida\n",
      "Categories with less than 100 images : 023_Scyphozoa 024_Ctenophora 026_ephyra 079_gonophore__Abylopsis_tetragona\n"
     ]
    }
   ],
   "source": [
    "print(\"Nombre moyen d'image par catégorie :\", np.mean(number_of_images))\n",
    "print(\"Nombre médian d'image par catégorie :\", np.median(number_of_images))\n",
    "print(\"Nombre max d'image par catégorie :\", np.max(number_of_images))\n",
    "print(\"Nombre min d'image par catégorie :\", np.min(number_of_images))\n",
    "\n",
    "print(\"Categories with more than 100000 images :\", *np.array(categories)[np.array(number_of_images) > 100000])\n",
    "print(\"Categories with less than 100 images :\", *np.array(categories)[np.array(number_of_images) < 100])"
   ]
  },
  {
   "cell_type": "markdown",
   "metadata": {},
   "source": [
    "Les catégories ont généralement quelques milliers d'image mais cela varie énormément. Il faudra notamment porter beaucoup d'attention aux catégories avec moins de 100 images car ce sont celles que l'algo aura le plus de mal à prédire certainement. \n",
    "On a aussi 2 catégories avec plus de 100 000 images."
   ]
  },
  {
   "cell_type": "code",
   "execution_count": 23,
   "metadata": {},
   "outputs": [],
   "source": [
    "from PIL import Image\n",
    "\n",
    "def afficher_image(categorie, numero_image, image_paths=image_paths):\n",
    "    im = Image.open(image_paths[categories[categorie]][numero_image])\n",
    "    im.show()\n",
    "    print(image_paths[categories[categorie]][numero_image])\n"
   ]
  },
  {
   "cell_type": "code",
   "execution_count": 24,
   "metadata": {},
   "outputs": [
    {
     "name": "stdout",
     "output_type": "stream",
     "text": [
      "/mounts/Datasets1/ChallengeDeep/train/010_Hyperiidea/116.jpg\n"
     ]
    }
   ],
   "source": [
    "afficher_image(10, 20)"
   ]
  },
  {
   "cell_type": "markdown",
   "metadata": {},
   "source": [
    "More Image Data\n"
   ]
  },
  {
   "cell_type": "code",
   "execution_count": 55,
   "metadata": {},
   "outputs": [
    {
     "ename": "TypeError",
     "evalue": "'tuple' object is not callable",
     "output_type": "error",
     "traceback": [
      "\u001b[0;31m---------------------------------------------------------------------------\u001b[0m",
      "\u001b[0;31mTypeError\u001b[0m                                 Traceback (most recent call last)",
      "\u001b[0;32m<ipython-input-55-6336f7500eeb>\u001b[0m in \u001b[0;36m<module>\u001b[0;34m\u001b[0m\n\u001b[1;32m     11\u001b[0m         \u001b[0mimage_Data\u001b[0m\u001b[0;34m[\u001b[0m\u001b[0mcategory\u001b[0m\u001b[0;34m]\u001b[0m\u001b[0;34m.\u001b[0m\u001b[0mappend\u001b[0m\u001b[0;34m(\u001b[0m\u001b[0mlist\u001b[0m\u001b[0;34m(\u001b[0m\u001b[0mimage\u001b[0m\u001b[0;34m.\u001b[0m\u001b[0mgetdata\u001b[0m\u001b[0;34m(\u001b[0m\u001b[0;34m)\u001b[0m\u001b[0;34m)\u001b[0m\u001b[0;34m)\u001b[0m\u001b[0;34m\u001b[0m\u001b[0;34m\u001b[0m\u001b[0m\n\u001b[1;32m     12\u001b[0m         \u001b[0mImage_Hists\u001b[0m\u001b[0;34m[\u001b[0m\u001b[0mcategory\u001b[0m\u001b[0;34m]\u001b[0m\u001b[0;34m.\u001b[0m\u001b[0mappend\u001b[0m\u001b[0;34m(\u001b[0m\u001b[0mlist\u001b[0m\u001b[0;34m(\u001b[0m\u001b[0mimage\u001b[0m\u001b[0;34m.\u001b[0m\u001b[0mhistogram\u001b[0m\u001b[0;34m(\u001b[0m\u001b[0;34m)\u001b[0m\u001b[0;34m)\u001b[0m\u001b[0;34m)\u001b[0m\u001b[0;34m\u001b[0m\u001b[0;34m\u001b[0m\u001b[0m\n\u001b[0;32m---> 13\u001b[0;31m         \u001b[0mimage_sizes\u001b[0m\u001b[0;34m[\u001b[0m\u001b[0mcategory\u001b[0m\u001b[0;34m]\u001b[0m\u001b[0;34m.\u001b[0m\u001b[0mappend\u001b[0m\u001b[0;34m(\u001b[0m\u001b[0mlist\u001b[0m\u001b[0;34m(\u001b[0m\u001b[0mimage\u001b[0m\u001b[0;34m.\u001b[0m\u001b[0msize\u001b[0m\u001b[0;34m(\u001b[0m\u001b[0;34m)\u001b[0m\u001b[0;34m)\u001b[0m\u001b[0;34m)\u001b[0m\u001b[0;34m\u001b[0m\u001b[0;34m\u001b[0m\u001b[0m\n\u001b[0m",
      "\u001b[0;31mTypeError\u001b[0m: 'tuple' object is not callable"
     ]
    }
   ],
   "source": [
    "image_Data = {} #Images as pixel value arrays per category\n",
    "Image_Hists = {} #Image psizes per category\n",
    "image_sizes = {} #Images sizes per category\n",
    "\n",
    "for category in categories:\n",
    "    image_Data[category]=[]\n",
    "    Image_Hists[category]=[]\n",
    "    image_sizes[category]=[]\n",
    "    for path in image_paths[category][:10]:\n",
    "        image = Image.open(path)\n",
    "        image_Data[category].append(list(image.getdata()))\n",
    "        Image_Hists[category].append(list(image.histogram()))\n",
    "        image_sizes[category].append(image.size)"
   ]
  },
  {
   "cell_type": "markdown",
   "metadata": {},
   "source": [
    "Check If image sizes are the same in a category"
   ]
  },
  {
   "cell_type": "code",
   "execution_count": 26,
   "metadata": {},
   "outputs": [],
   "source": [
    "def checkSizeIsequal(category):\n",
    "    test = np.sum(image_sizes[category]==image_sizes[category][::-1])\n",
    "    print(\"Toutes les images de {} sont de même taille : {}\".format(category, bool(test)))"
   ]
  },
  {
   "cell_type": "code",
   "execution_count": 27,
   "metadata": {},
   "outputs": [
    {
     "name": "stdout",
     "output_type": "stream",
     "text": [
      "Toutes les images de 000_Candaciidae sont de même taille : False\n"
     ]
    }
   ],
   "source": [
    "checkSizeIsequal(categories[0])"
   ]
  },
  {
   "cell_type": "markdown",
   "metadata": {},
   "source": [
    "Show a scatterplot of Image Sizes"
   ]
  },
  {
   "cell_type": "code",
   "execution_count": 41,
   "metadata": {},
   "outputs": [
    {
     "data": {
      "image/png": "[encoded data removed]",
      "text/plain": [
       "<Figure size 432x288 with 1 Axes>"
      ]
     },
     "metadata": {
      "needs_background": "light"
     },
     "output_type": "display_data"
    }
   ],
   "source": [
    "X,Y = [],[]\n",
    "for category in categories :\n",
    "    X.append([image_sizes[category][i][0] for i in range(len(image_sizes[category]))])\n",
    "    Y.append([image_sizes[category][i][1] for i in range(len(image_sizes[category]))])\n",
    "plt.scatter(X,Y) #matplotlib\n",
    "# sns.scatterplot(X,Y) #seaborn\n",
    "plt.show()"
   ]
  },
  {
   "cell_type": "markdown",
   "metadata": {},
   "source": [
    "Print Image Histograms"
   ]
  },
  {
   "cell_type": "code",
   "execution_count": 53,
   "metadata": {},
   "outputs": [
    {
     "data": {
      "image/png": "[encoded data removed]",
      "text/plain": [
       "<Figure size 432x288 with 1 Axes>"
      ]
     },
     "metadata": {
      "needs_background": "light"
     },
     "output_type": "display_data"
    }
   ],
   "source": [
    "category, image =  5, 5\n",
    "plt.plot(Image_Hists[categories[category]][image][:255])\n",
    "plt.show()"
   ]
  }
 ],
 "metadata": {
  "interpreter": {
   "hash": "31f2aee4e71d21fbe5cf8b01ff0e069b9275f58929596ceb00d14d90e3e16cd6"
  },
  "kernelspec": {
   "display_name": "Python 3",
   "language": "python",
   "name": "python3"
  },
  "language_info": {
   "codemirror_mode": {
    "name": "ipython",
    "version": 3
   },
   "file_extension": ".py",
   "mimetype": "text/x-python",
   "name": "python",
   "nbconvert_exporter": "python",
   "pygments_lexer": "ipython3",
   "version": "3.6.9"
  }
 },
 "nbformat": 4,
 "nbformat_minor": 2
}
